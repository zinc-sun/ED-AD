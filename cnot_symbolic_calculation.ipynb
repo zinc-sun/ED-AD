{
 "cells": [
  {
   "cell_type": "code",
   "execution_count": 1,
   "metadata": {
    "vscode": {
     "languageId": "python"
    }
   },
   "outputs": [],
   "source": [
    "import sympy\n",
    "import itertools as it\n",
    "import matplotlib.pyplot as plt\n",
    "import matplotlib\n",
    "import numpy as np\n",
    "%matplotlib inline\n",
    "\n",
    "font = { 'size':22}\n",
    "matplotlib.rc('font', **font)"
   ]
  },
  {
   "cell_type": "code",
   "execution_count": 2,
   "metadata": {
    "vscode": {
     "languageId": "python"
    }
   },
   "outputs": [],
   "source": [
    "def generate_pauli_dict_2(p_I, p_X, p_Y, p_Z):\n",
    "\n",
    "    # Given a Pauli vector return a dictionary in the format of {\"XX\": p_X*p_X, ...}. This is a representation of a state \\rho \\otimes \\rho.\n",
    "\n",
    "    paulis = [\"I\", \"X\", \"Y\", \"Z\"]\n",
    "    result = {}\n",
    "    for p1 in paulis:\n",
    "        for p2 in paulis:\n",
    "            value = 1\n",
    "            if p1 == \"I\":\n",
    "                value *= p_I\n",
    "            if p1 == \"X\":\n",
    "                value *= p_X\n",
    "            if p1 == \"Y\":\n",
    "                value *= p_Y\n",
    "            if p1 == \"Z\":\n",
    "                value *= p_Z\n",
    "            if p2 == \"I\":\n",
    "                value *= p_I\n",
    "            if p2 == \"X\":\n",
    "                value *= p_X\n",
    "            if p2 == \"Y\":\n",
    "                value *= p_Y\n",
    "            if p2 == \"Z\":\n",
    "                value *= p_Z\n",
    "            result[p1+p2] = value      \n",
    "    return result  \n",
    "\n",
    "def generate_pauli_dict_3(p_I, p_X, p_Y, p_Z):\n",
    "\n",
    "    # Given a Pauli vector representing \\rho (p_I, p_X, p_Y, p_Z). Return a dictionary representing \\rho \\otimes \\rho \\otimes \\rho. The output is {\"XXX\": p_X * p_X, \"XXY\": p_X * p_X * p_Y, ...}. \n",
    "\n",
    "    paulis = [\"I\", \"X\", \"Y\", \"Z\"]\n",
    "    result = {}\n",
    "    for p1 in paulis:\n",
    "        for p2 in paulis:\n",
    "            for p3 in paulis:\n",
    "                value = 1\n",
    "                if p1 == \"I\":\n",
    "                    value *= p_I\n",
    "                if p1 == \"X\":\n",
    "                    value *= p_X\n",
    "                if p1 == \"Y\":\n",
    "                    value *= p_Y\n",
    "                if p1 == \"Z\":\n",
    "                    value *= p_Z\n",
    "                if p2 == \"I\":\n",
    "                    value *= p_I\n",
    "                if p2 == \"X\":\n",
    "                    value *= p_X\n",
    "                if p2 == \"Y\":\n",
    "                    value *= p_Y\n",
    "                if p2 == \"Z\":\n",
    "                    value *= p_Z\n",
    "                if p3 == \"I\":\n",
    "                    value *= p_I\n",
    "                if p3 == \"X\":\n",
    "                    value *= p_X\n",
    "                if p3 == \"Y\":\n",
    "                    value *= p_Y\n",
    "                if p3 == \"Z\":\n",
    "                    value *= p_Z\n",
    "                result[p1+p2+p3] = value      \n",
    "    return result  \n",
    "\n",
    "\n",
    "def generate_pauli_dict_4(p_I, p_X, p_Y, p_Z):\n",
    "\n",
    "\n",
    "\n",
    "    paulis = [\"I\", \"X\", \"Y\", \"Z\"]\n",
    "    result = {}\n",
    "    for p1 in paulis:\n",
    "        for p2 in paulis:\n",
    "            for p3 in paulis:\n",
    "                for p4 in paulis:\n",
    "                    value = 1\n",
    "                    if p1 == \"I\":\n",
    "                        value *= p_I\n",
    "                    if p1 == \"X\":\n",
    "                        value *= p_X\n",
    "                    if p1 == \"Y\":\n",
    "                        value *= p_Y\n",
    "                    if p1 == \"Z\":\n",
    "                        value *= p_Z\n",
    "                    if p2 == \"I\":\n",
    "                        value *= p_I\n",
    "                    if p2 == \"X\":\n",
    "                        value *= p_X\n",
    "                    if p2 == \"Y\":\n",
    "                        value *= p_Y\n",
    "                    if p2 == \"Z\":\n",
    "                        value *= p_Z\n",
    "                    if p3 == \"I\":\n",
    "                        value *= p_I\n",
    "                    if p3 == \"X\":\n",
    "                        value *= p_X\n",
    "                    if p3 == \"Y\":\n",
    "                        value *= p_Y\n",
    "                    if p3 == \"Z\":\n",
    "                        value *= p_Z\n",
    "                    if p4 == \"I\":\n",
    "                        value *= p_I\n",
    "                    if p4 == \"X\":\n",
    "                        value *= p_X\n",
    "                    if p4 == \"Y\":\n",
    "                        value *= p_Y\n",
    "                    if p4 == \"Z\":\n",
    "                        value *= p_Z\n",
    "                    result[p1+p2+p3+p4] = value      \n",
    "    return result  \n",
    "\n",
    "\n",
    "def sum_up_dict(pauli_dict, lst_pauli_str):\n",
    "    # Given a Pauli dictionary {\"XX\": ..., \"XY\": ..., ...} and a list of Pauli string [\"XX\", \"YY\", ...]\n",
    "    # return the sum of corresponding values.\n",
    "    result = 0\n",
    "    for p in lst_pauli_str:\n",
    "        result += pauli_dict[p]\n",
    "    return result\n",
    "\n",
    "def distillation_statistics(state, pillars):\n",
    "    p_I = sum_up_dict(state, pillars[0]) / sum_up_dict(state, list(it.chain.from_iterable(pillars))) \n",
    "    p_X = sum_up_dict(state, pillars[1]) / sum_up_dict(state, list(it.chain.from_iterable(pillars))) \n",
    "    p_Y = sum_up_dict(state, pillars[2]) / sum_up_dict(state, list(it.chain.from_iterable(pillars))) \n",
    "    p_Z = sum_up_dict(state, pillars[3]) / sum_up_dict(state, list(it.chain.from_iterable(pillars))) \n",
    "    p_suc = sum_up_dict(state, list(it.chain.from_iterable(pillars)))\n",
    "\n",
    "    return [p_I, p_X, p_Y, p_Z], p_suc\n",
    "\n",
    "def permute_paulies(pauli_vector):\n",
    "    # Dumb way to generate all permutations of the p_X, p_Y, p_Z\n",
    "    P_1 = [pauli_vector[0], pauli_vector[1], pauli_vector[2], pauli_vector[3]]\n",
    "    P_2 = [pauli_vector[0], pauli_vector[1], pauli_vector[3], pauli_vector[2]]\n",
    "    P_3 = [pauli_vector[0], pauli_vector[2], pauli_vector[1], pauli_vector[3]]\n",
    "    P_4 = [pauli_vector[0], pauli_vector[2], pauli_vector[3], pauli_vector[1]]\n",
    "    P_5 = [pauli_vector[0], pauli_vector[3], pauli_vector[1], pauli_vector[2]]\n",
    "    P_6 = [pauli_vector[0], pauli_vector[2], pauli_vector[3], pauli_vector[1]]\n",
    "    return [P_1, P_2, P_3, P_4, P_5, P_6]\n",
    "\n",
    "def get_bb84_rate(pauli_vector, num_pair, p_suc):\n",
    "    possible_rates = []\n",
    "    possible_pauli_vectors = permute_paulies(pauli_vector)\n",
    "\n",
    "    for p in possible_pauli_vectors:\n",
    "        error_bitfilip = p[1] + p[2]\n",
    "        error_phaseflip= p[2] + p[3]\n",
    "        r_sk = p_suc  * (1 - bin_entropy(error_bitfilip) - bin_entropy(error_phaseflip)) / num_pair\n",
    "\n",
    "        # r_sk = (1 - bin_entropy(error_bitfilip) - bin_entropy(error_phaseflip)) \n",
    "        if r_sk < 0 :\n",
    "            possible_rates.append(0)\n",
    "        else:\n",
    "            possible_rates.append(r_sk)\n",
    "    return max(possible_rates)\n",
    "\n",
    "def bin_entropy(p):\n",
    "    # Binary entropy function\n",
    "    if p == 0 or p == 1:\n",
    "        return 0\n",
    "    else:\n",
    "        return (-p* np.log2(p)) - (1-p) * np.log2(1-p)"
   ]
  },
  {
   "cell_type": "code",
   "execution_count": 3,
   "metadata": {
    "vscode": {
     "languageId": "python"
    }
   },
   "outputs": [],
   "source": [
    "AD_2_pillars = [['II', 'ZZ'], ['XX', 'YY'], ['YX', 'XY'], ['ZI', 'IZ']]\n",
    "\n",
    "AD_3_pillars = [['III', 'ZZI', 'ZIZ', 'IZZ'], ['XXX', 'YYX', 'YXY', 'XYY'], ['YXX', 'XYX', 'XXY', 'YYY'], ['ZII', 'IZI', 'IIZ', 'ZZZ']]\n",
    "\n",
    "AD_4_pillars = [['IIII', 'ZZII', 'ZIZI', 'ZIIZ', 'IZZI', 'IZIZ', 'IIZZ', 'ZZZZ'], ['XXXX', 'YYXX', 'YXYX', 'YXXY', 'XYYX', 'XYXY', 'XXYY', 'YYYY'], ['YXXX', 'XYXX', 'XXYX', 'XXXY', 'YYYX', 'YYXY', 'YXYY', 'XYYY'], ['ZIII', 'IZII', 'IIZI', 'IIIZ', 'ZZZI', 'ZZIZ', 'ZIZZ', 'IZZZ']]"
   ]
  },
  {
   "cell_type": "code",
   "execution_count": 4,
   "metadata": {
    "vscode": {
     "languageId": "python"
    }
   },
   "outputs": [],
   "source": [
    "F = sympy.symbols('F')\n",
    "\n",
    "p_I = F\n",
    "p_X = (1 - F) / 3\n",
    "p_Y = (1 - F) / 3\n",
    "p_Z = (1 - F) / 3\n",
    "\n",
    "werner_state_2 = generate_pauli_dict_2(p_I, p_X, p_Y, p_Z)\n",
    "werner_state_3 = generate_pauli_dict_3(p_I, p_X, p_Y, p_Z)\n",
    "werner_state_4 = generate_pauli_dict_4(p_I, p_X, p_Y, p_Z)"
   ]
  },
  {
   "cell_type": "code",
   "execution_count": 5,
   "metadata": {
    "vscode": {
     "languageId": "python"
    }
   },
   "outputs": [],
   "source": [
    "AD_2_I = distillation_statistics(werner_state_2, AD_2_pillars)[0][0]\n",
    "AD_2_X = distillation_statistics(werner_state_2, AD_2_pillars)[0][1]\n",
    "AD_2_Y = distillation_statistics(werner_state_2, AD_2_pillars)[0][2]\n",
    "AD_2_Z = distillation_statistics(werner_state_2, AD_2_pillars)[0][3]\n",
    "AD_2_p_suc = distillation_statistics(werner_state_2, AD_2_pillars)[1]\n",
    "\n",
    "AD_3_I = distillation_statistics(werner_state_3, AD_3_pillars)[0][0]\n",
    "AD_3_X = distillation_statistics(werner_state_3, AD_3_pillars)[0][1]\n",
    "AD_3_Y = distillation_statistics(werner_state_3, AD_3_pillars)[0][2]\n",
    "AD_3_Z = distillation_statistics(werner_state_3, AD_3_pillars)[0][3]\n",
    "AD_3_p_suc = distillation_statistics(werner_state_3, AD_3_pillars)[1]\n",
    "\n",
    "AD_4_I = distillation_statistics(werner_state_4, AD_4_pillars)[0][0]\n",
    "AD_4_X = distillation_statistics(werner_state_4, AD_4_pillars)[0][1]\n",
    "AD_4_Y = distillation_statistics(werner_state_4, AD_4_pillars)[0][2]\n",
    "AD_4_Z = distillation_statistics(werner_state_4, AD_4_pillars)[0][3]\n",
    "AD_4_p_suc = distillation_statistics(werner_state_4, AD_4_pillars)[1]"
   ]
  },
  {
   "cell_type": "code",
   "execution_count": 6,
   "metadata": {
    "vscode": {
     "languageId": "python"
    }
   },
   "outputs": [],
   "source": [
    "fid_list = np.linspace(0.5, 1, 500)\n",
    "\n",
    "ID_I_comp = []\n",
    "ID_X_comp = []\n",
    "ID_Y_comp = []\n",
    "ID_Z_comp = []\n",
    "\n",
    "AD_2_I_comp = []\n",
    "AD_2_X_comp = []\n",
    "AD_2_Y_comp = []\n",
    "AD_2_Z_comp = []\n",
    "AD_2_p_suc_num = []\n",
    "AD_2_key_rate = []\n",
    "\n",
    "AD_3_I_comp = []\n",
    "AD_3_X_comp = []\n",
    "AD_3_Y_comp = []\n",
    "AD_3_Z_comp = []\n",
    "AD_3_p_suc_num = []\n",
    "AD_3_key_rate = []\n",
    "\n",
    "AD_4_I_comp = []\n",
    "AD_4_X_comp = []\n",
    "AD_4_Y_comp = []\n",
    "AD_4_Z_comp = []\n",
    "AD_4_p_suc_num = []\n",
    "AD_4_key_rate = []\n",
    "\n",
    "\n",
    "for f in fid_list:\n",
    "    ID_I_comp.append(float(p_I.subs({F:f})))\n",
    "    ID_X_comp.append(float(p_X.subs({F:f})))\n",
    "    ID_Y_comp.append(float(p_Y.subs({F:f})))\n",
    "    ID_Z_comp.append(float(p_Z.subs({F:f})))\n",
    "\n",
    "    AD_2_I_comp.append(float(AD_2_I.subs({F:f})))\n",
    "    AD_2_X_comp.append(float(AD_2_X.subs({F:f})))\n",
    "    AD_2_Y_comp.append(float(AD_2_Y.subs({F:f})))\n",
    "    AD_2_Z_comp.append(float(AD_2_Z.subs({F:f})))\n",
    "    AD_2_p_suc_num.append(float(AD_2_p_suc.subs({F:f})))\n",
    "\n",
    "    AD_3_I_comp.append(float(AD_3_I.subs({F:f})))\n",
    "    AD_3_X_comp.append(float(AD_3_X.subs({F:f})))\n",
    "    AD_3_Y_comp.append(float(AD_3_Y.subs({F:f})))\n",
    "    AD_3_Z_comp.append(float(AD_3_Z.subs({F:f})))\n",
    "    AD_3_p_suc_num.append(float(AD_3_p_suc.subs({F:f})))\n",
    "\n",
    "    AD_4_I_comp.append(float(AD_4_I.subs({F:f})))\n",
    "    AD_4_X_comp.append(float(AD_4_X.subs({F:f})))\n",
    "    AD_4_Y_comp.append(float(AD_4_Y.subs({F:f})))\n",
    "    AD_4_Z_comp.append(float(AD_4_Z.subs({F:f})))\n",
    "    AD_4_p_suc_num.append(float(AD_4_p_suc.subs({F:f})))\n",
    "\n",
    "for i in range(len(fid_list)):\n",
    "    AD_2_key_rate.append(get_bb84_rate([AD_2_I_comp[i], AD_2_X_comp[i], AD_2_Y_comp[i], AD_2_Z_comp[i]], 2, AD_2_p_suc_num[i]))\n",
    "    AD_3_key_rate.append(get_bb84_rate([AD_3_I_comp[i], AD_3_X_comp[i], AD_3_Y_comp[i], AD_3_Z_comp[i]], 3, AD_3_p_suc_num[i]))\n",
    "    AD_4_key_rate.append(get_bb84_rate([AD_4_I_comp[i], AD_4_X_comp[i], AD_4_Y_comp[i], AD_4_Z_comp[i]], 4, AD_4_p_suc_num[i]))"
   ]
  },
  {
   "cell_type": "code",
   "execution_count": null,
   "metadata": {
    "vscode": {
     "languageId": "python"
    }
   },
   "outputs": [],
   "source": [
    "plt.figure(figsize=(10,10))\n",
    "plt.title('2-1 Repetition code')\n",
    "cmap = plt.get_cmap(\"tab10\")\n",
    "plt.xlabel(\"Input fidelity\")\n",
    "plt.ylabel(\"Components\")\n",
    "\n",
    "plt.plot(fid_list, ID_I_comp, label = 'I (no distillation)', linestyle = '--', color = cmap(0))\n",
    "plt.plot(fid_list, ID_X_comp, label = 'X, Y, Z (no distillation)', linestyle = '--',  color = cmap(4))\n",
    "plt.plot(fid_list, AD_2_I_comp, label = 'I',  color = cmap(0))\n",
    "plt.plot(fid_list, AD_2_X_comp, label = 'X',  color = cmap(1))\n",
    "plt.plot(fid_list, AD_2_Y_comp, label = 'Y',  color = cmap(2))\n",
    "plt.plot(fid_list, AD_2_Z_comp, label = 'Z',  color = cmap(3))\n",
    "plt.gca().invert_xaxis()\n",
    "plt.legend(loc='best')"
   ]
  },
  {
   "cell_type": "code",
   "execution_count": null,
   "metadata": {
    "vscode": {
     "languageId": "python"
    }
   },
   "outputs": [],
   "source": [
    "plt.figure(figsize=(10,10))\n",
    "\n",
    "cmap = plt.get_cmap(\"tab10\")\n",
    "plt.title('3-1 Repetition code')\n",
    "plt.xlabel(\"Input fidelity\")\n",
    "plt.ylabel(\"Components\")\n",
    "\n",
    "plt.plot(fid_list, ID_I_comp, label = 'I (no distillation)', linestyle = '--', color = cmap(0))\n",
    "plt.plot(fid_list, ID_X_comp, label = 'X, Y, Z (no distillation)', linestyle = '--',  color = cmap(4))\n",
    "plt.plot(fid_list, AD_3_I_comp, label = 'I',  color = cmap(0))\n",
    "plt.plot(fid_list, AD_3_X_comp, label = 'X',  color = cmap(1))\n",
    "plt.plot(fid_list, AD_3_Y_comp, label = 'Y',  color = cmap(2))\n",
    "plt.plot(fid_list, AD_3_Z_comp, label = 'Z',  color = cmap(3))\n",
    "plt.gca().invert_xaxis()\n",
    "plt.legend(loc='best')"
   ]
  },
  {
   "cell_type": "code",
   "execution_count": null,
   "metadata": {
    "vscode": {
     "languageId": "python"
    }
   },
   "outputs": [],
   "source": [
    "plt.figure(figsize=(10,10))\n",
    "plt.title('4-1 Repetition code')\n",
    "cmap = plt.get_cmap(\"tab10\")\n",
    "plt.xlabel(\"Input fidelity\")\n",
    "plt.ylabel(\"Components\")\n",
    "\n",
    "plt.plot(fid_list, ID_I_comp, label = 'I (no distillation)', linestyle = '--', color = cmap(0))\n",
    "plt.plot(fid_list, ID_X_comp, label = 'X, Y, Z (no distillation)', linestyle = '--',  color = cmap(4))\n",
    "plt.plot(fid_list, AD_4_I_comp, label = 'I',  color = cmap(0))\n",
    "plt.plot(fid_list, AD_4_X_comp, label = 'X',  color = cmap(1))\n",
    "plt.plot(fid_list, AD_4_Y_comp, label = 'Y',  color = cmap(2))\n",
    "plt.plot(fid_list, AD_4_Z_comp, label = 'Z',  color = cmap(3))\n",
    "plt.gca().invert_xaxis()\n",
    "plt.legend(loc='best')"
   ]
  },
  {
   "cell_type": "code",
   "execution_count": null,
   "metadata": {
    "vscode": {
     "languageId": "python"
    }
   },
   "outputs": [],
   "source": [
    "print(sympy.latex(AD_4_Z))"
   ]
  },
  {
   "cell_type": "code",
   "execution_count": null,
   "metadata": {
    "vscode": {
     "languageId": "python"
    }
   },
   "outputs": [],
   "source": [
    "print(sympy.latex(sympy.simplify(AD_4_Z)))"
   ]
  },
  {
   "cell_type": "code",
   "execution_count": null,
   "metadata": {
    "vscode": {
     "languageId": "python"
    }
   },
   "outputs": [],
   "source": [
    "plt.figure(figsize=(10,10))\n",
    "plt.title('BB84 key rates')\n",
    "cmap = plt.get_cmap(\"tab10\")\n",
    "plt.xlabel(\"Input fidelity\")\n",
    "plt.ylabel(\"Rates\")\n",
    "\n",
    "\n",
    "plt.plot(fid_list, AD_2_key_rate, label = '2-1 Repetition code',  color = cmap(0))\n",
    "plt.plot(fid_list, AD_3_key_rate, label = '3-1 Repetition code',  color = cmap(1))\n",
    "plt.plot(fid_list, AD_4_key_rate, label = '4-1 Repetition code',  color = cmap(2))\n",
    "\n",
    "plt.gca().invert_xaxis()\n",
    "plt.legend(loc='best')"
   ]
  },
  {
   "cell_type": "code",
   "execution_count": null,
   "metadata": {
    "vscode": {
     "languageId": "python"
    }
   },
   "outputs": [],
   "source": []
  }
 ],
 "metadata": {
  "kernelspec": {
   "display_name": "SageMath 10.1",
   "language": "sage",
   "name": "SageMath-10.1"
  },
  "language_info": {
   "codemirror_mode": {
    "name": "ipython",
    "version": 3
   },
   "file_extension": ".py",
   "mimetype": "text/x-python",
   "name": "sage",
   "nbconvert_exporter": "python",
   "pygments_lexer": "ipython3",
   "version": "3.11.1"
  }
 },
 "nbformat": 4,
 "nbformat_minor": 2
}
